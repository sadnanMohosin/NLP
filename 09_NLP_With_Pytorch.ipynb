{
 "cells": [
  {
   "cell_type": "markdown",
   "metadata": {},
   "source": [
    "# Natural Language Processing with PyTorch"
   ]
  },
  {
   "cell_type": "markdown",
   "metadata": {},
   "source": [
    "### Introduction\n",
    "\n",
    "Natural language processing is a big domain in data science and artificial intelligence. It includes several applications, such as sentiment analysis, machine translation, speech recognition, chatbots creation, market intelligence, and text classification. PyTorch is a popular and powerful deep learning library that has rich capabilities to perform natural language processing tasks. In this guide, you will explore and learn the natural language processing technique of text classification with PyTorch."
   ]
  },
  {
   "cell_type": "markdown",
   "metadata": {},
   "source": [
    "### Data and Required Libraries\n",
    "\n",
    "To begin, load the required libraries. The first package you’ll import is the `torch` library, which is used to define tensors and perform mathematical operations. The second library to import is the `torchtext` library, which is the NLP library in PyTorch that contains data processing utilities. "
   ]
  },
  {
   "cell_type": "code",
   "execution_count": 2,
   "metadata": {},
   "outputs": [],
   "source": [
    "import torch\n",
    "\n",
    "import torchtext # pip install torchtext"
   ]
  },
  {
   "cell_type": "markdown",
   "metadata": {},
   "source": [
    "The next step is to load the dataset. The `torchtext` library contains the module `torchtext.data`, which has several datasets to use to perform natural language processing tasks. In this guide, you will carry out text classification using the inbuilt **SogouNews** dataset. It’s a supervised learning news dataset which has five labels: `0` for Sports, `1` for Finance, `2` for Entertainment, `3` for Automobile, and `4` for Technology.\n",
    "\n",
    "The lines of code below load the dataset. Setting `NGRAMS = 2` will ensure that text in the dataset will be a list of single words plus bi-grams string."
   ]
  },
  {
   "cell_type": "code",
   "execution_count": 8,
   "metadata": {},
   "outputs": [
    {
     "ename": "KeyError",
     "evalue": "'content-disposition'",
     "output_type": "error",
     "traceback": [
      "\u001b[1;31m---------------------------------------------------------------------------\u001b[0m",
      "\u001b[1;31mKeyError\u001b[0m                                  Traceback (most recent call last)",
      "\u001b[1;32mf:\\work in jupyter\\NLP\\NLP_With_Pytorch.ipynb Cell 6'\u001b[0m in \u001b[0;36m<cell line: 11>\u001b[1;34m()\u001b[0m\n\u001b[0;32m      <a href='vscode-notebook-cell:/f%3A/work%20in%20jupyter/NLP/NLP_With_Pytorch.ipynb#ch0000005?line=6'>7</a>\u001b[0m \u001b[39mif\u001b[39;00m \u001b[39mnot\u001b[39;00m os\u001b[39m.\u001b[39mpath\u001b[39m.\u001b[39misdir(\u001b[39m'\u001b[39m\u001b[39m./.data\u001b[39m\u001b[39m'\u001b[39m):\n\u001b[0;32m      <a href='vscode-notebook-cell:/f%3A/work%20in%20jupyter/NLP/NLP_With_Pytorch.ipynb#ch0000005?line=8'>9</a>\u001b[0m     os\u001b[39m.\u001b[39mmkdir(\u001b[39m'\u001b[39m\u001b[39m./.data\u001b[39m\u001b[39m'\u001b[39m)\n\u001b[1;32m---> <a href='vscode-notebook-cell:/f%3A/work%20in%20jupyter/NLP/NLP_With_Pytorch.ipynb#ch0000005?line=10'>11</a>\u001b[0m train_dataset, test_dataset \u001b[39m=\u001b[39m text_classification\u001b[39m.\u001b[39;49mDATASETS[\u001b[39m'\u001b[39;49m\u001b[39mSogouNews\u001b[39;49m\u001b[39m'\u001b[39;49m](root\u001b[39m=\u001b[39;49m\u001b[39m'\u001b[39;49m\u001b[39m./.data\u001b[39;49m\u001b[39m'\u001b[39;49m)\n\u001b[0;32m     <a href='vscode-notebook-cell:/f%3A/work%20in%20jupyter/NLP/NLP_With_Pytorch.ipynb#ch0000005?line=12'>13</a>\u001b[0m BATCH_SIZE \u001b[39m=\u001b[39m \u001b[39m16\u001b[39m\n\u001b[0;32m     <a href='vscode-notebook-cell:/f%3A/work%20in%20jupyter/NLP/NLP_With_Pytorch.ipynb#ch0000005?line=14'>15</a>\u001b[0m device \u001b[39m=\u001b[39m torch\u001b[39m.\u001b[39mdevice(\u001b[39m\"\u001b[39m\u001b[39mcuda\u001b[39m\u001b[39m\"\u001b[39m \u001b[39mif\u001b[39;00m torch\u001b[39m.\u001b[39mcuda\u001b[39m.\u001b[39mis_available() \u001b[39melse\u001b[39;00m \u001b[39m\"\u001b[39m\u001b[39mcpu\u001b[39m\u001b[39m\"\u001b[39m)\n",
      "File \u001b[1;32m~\\AppData\\Local\\Packages\\PythonSoftwareFoundation.Python.3.10_qbz5n2kfra8p0\\LocalCache\\local-packages\\Python310\\site-packages\\torchtext\\datasets\\text_classification.py:199\u001b[0m, in \u001b[0;36mSogouNews\u001b[1;34m(*args, **kwargs)\u001b[0m\n\u001b[0;32m    <a href='file:///c%3A/Users/Sadnan/AppData/Local/Packages/PythonSoftwareFoundation.Python.3.10_qbz5n2kfra8p0/LocalCache/local-packages/Python310/site-packages/torchtext/datasets/text_classification.py?line=172'>173</a>\u001b[0m \u001b[39mdef\u001b[39;00m \u001b[39mSogouNews\u001b[39m(\u001b[39m*\u001b[39margs, \u001b[39m*\u001b[39m\u001b[39m*\u001b[39mkwargs):\n\u001b[0;32m    <a href='file:///c%3A/Users/Sadnan/AppData/Local/Packages/PythonSoftwareFoundation.Python.3.10_qbz5n2kfra8p0/LocalCache/local-packages/Python310/site-packages/torchtext/datasets/text_classification.py?line=173'>174</a>\u001b[0m     \u001b[39m\"\"\" Defines SogouNews datasets.\u001b[39;00m\n\u001b[0;32m    <a href='file:///c%3A/Users/Sadnan/AppData/Local/Packages/PythonSoftwareFoundation.Python.3.10_qbz5n2kfra8p0/LocalCache/local-packages/Python310/site-packages/torchtext/datasets/text_classification.py?line=174'>175</a>\u001b[0m \u001b[39m        The labels includes:\u001b[39;00m\n\u001b[0;32m    <a href='file:///c%3A/Users/Sadnan/AppData/Local/Packages/PythonSoftwareFoundation.Python.3.10_qbz5n2kfra8p0/LocalCache/local-packages/Python310/site-packages/torchtext/datasets/text_classification.py?line=175'>176</a>\u001b[0m \u001b[39m            - 1 : Sports\u001b[39;00m\n\u001b[1;32m   (...)\u001b[0m\n\u001b[0;32m    <a href='file:///c%3A/Users/Sadnan/AppData/Local/Packages/PythonSoftwareFoundation.Python.3.10_qbz5n2kfra8p0/LocalCache/local-packages/Python310/site-packages/torchtext/datasets/text_classification.py?line=195'>196</a>\u001b[0m \n\u001b[0;32m    <a href='file:///c%3A/Users/Sadnan/AppData/Local/Packages/PythonSoftwareFoundation.Python.3.10_qbz5n2kfra8p0/LocalCache/local-packages/Python310/site-packages/torchtext/datasets/text_classification.py?line=196'>197</a>\u001b[0m \u001b[39m    \"\"\"\u001b[39;00m\n\u001b[1;32m--> <a href='file:///c%3A/Users/Sadnan/AppData/Local/Packages/PythonSoftwareFoundation.Python.3.10_qbz5n2kfra8p0/LocalCache/local-packages/Python310/site-packages/torchtext/datasets/text_classification.py?line=198'>199</a>\u001b[0m     \u001b[39mreturn\u001b[39;00m _setup_datasets(\u001b[39m*\u001b[39m((\u001b[39m\"\u001b[39m\u001b[39mSogouNews\u001b[39m\u001b[39m\"\u001b[39m,) \u001b[39m+\u001b[39m args), \u001b[39m*\u001b[39m\u001b[39m*\u001b[39mkwargs)\n",
      "File \u001b[1;32m~\\AppData\\Local\\Packages\\PythonSoftwareFoundation.Python.3.10_qbz5n2kfra8p0\\LocalCache\\local-packages\\Python310\\site-packages\\torchtext\\datasets\\text_classification.py:117\u001b[0m, in \u001b[0;36m_setup_datasets\u001b[1;34m(dataset_name, root, ngrams, vocab, include_unk)\u001b[0m\n\u001b[0;32m    <a href='file:///c%3A/Users/Sadnan/AppData/Local/Packages/PythonSoftwareFoundation.Python.3.10_qbz5n2kfra8p0/LocalCache/local-packages/Python310/site-packages/torchtext/datasets/text_classification.py?line=115'>116</a>\u001b[0m \u001b[39mdef\u001b[39;00m \u001b[39m_setup_datasets\u001b[39m(dataset_name, root\u001b[39m=\u001b[39m\u001b[39m'\u001b[39m\u001b[39m.data\u001b[39m\u001b[39m'\u001b[39m, ngrams\u001b[39m=\u001b[39m\u001b[39m2\u001b[39m, vocab\u001b[39m=\u001b[39m\u001b[39mNone\u001b[39;00m, include_unk\u001b[39m=\u001b[39m\u001b[39mFalse\u001b[39;00m):\n\u001b[1;32m--> <a href='file:///c%3A/Users/Sadnan/AppData/Local/Packages/PythonSoftwareFoundation.Python.3.10_qbz5n2kfra8p0/LocalCache/local-packages/Python310/site-packages/torchtext/datasets/text_classification.py?line=116'>117</a>\u001b[0m     dataset_tar \u001b[39m=\u001b[39m download_from_url(URLS[dataset_name], root\u001b[39m=\u001b[39;49mroot)\n\u001b[0;32m    <a href='file:///c%3A/Users/Sadnan/AppData/Local/Packages/PythonSoftwareFoundation.Python.3.10_qbz5n2kfra8p0/LocalCache/local-packages/Python310/site-packages/torchtext/datasets/text_classification.py?line=117'>118</a>\u001b[0m     extracted_files \u001b[39m=\u001b[39m extract_archive(dataset_tar)\n\u001b[0;32m    <a href='file:///c%3A/Users/Sadnan/AppData/Local/Packages/PythonSoftwareFoundation.Python.3.10_qbz5n2kfra8p0/LocalCache/local-packages/Python310/site-packages/torchtext/datasets/text_classification.py?line=119'>120</a>\u001b[0m     \u001b[39mfor\u001b[39;00m fname \u001b[39min\u001b[39;00m extracted_files:\n",
      "File \u001b[1;32m~\\AppData\\Local\\Packages\\PythonSoftwareFoundation.Python.3.10_qbz5n2kfra8p0\\LocalCache\\local-packages\\Python310\\site-packages\\torchtext\\utils.py:100\u001b[0m, in \u001b[0;36mdownload_from_url\u001b[1;34m(url, path, root, overwrite)\u001b[0m\n\u001b[0;32m     <a href='file:///c%3A/Users/Sadnan/AppData/Local/Packages/PythonSoftwareFoundation.Python.3.10_qbz5n2kfra8p0/LocalCache/local-packages/Python310/site-packages/torchtext/utils.py?line=96'>97</a>\u001b[0m     url \u001b[39m=\u001b[39m url \u001b[39m+\u001b[39m \u001b[39m\"\u001b[39m\u001b[39m&confirm=\u001b[39m\u001b[39m\"\u001b[39m \u001b[39m+\u001b[39m confirm_token\n\u001b[0;32m     <a href='file:///c%3A/Users/Sadnan/AppData/Local/Packages/PythonSoftwareFoundation.Python.3.10_qbz5n2kfra8p0/LocalCache/local-packages/Python310/site-packages/torchtext/utils.py?line=97'>98</a>\u001b[0m     response \u001b[39m=\u001b[39m session\u001b[39m.\u001b[39mget(url, stream\u001b[39m=\u001b[39m\u001b[39mTrue\u001b[39;00m)\n\u001b[1;32m--> <a href='file:///c%3A/Users/Sadnan/AppData/Local/Packages/PythonSoftwareFoundation.Python.3.10_qbz5n2kfra8p0/LocalCache/local-packages/Python310/site-packages/torchtext/utils.py?line=99'>100</a>\u001b[0m \u001b[39mreturn\u001b[39;00m _process_response(response, root, filename)\n",
      "File \u001b[1;32m~\\AppData\\Local\\Packages\\PythonSoftwareFoundation.Python.3.10_qbz5n2kfra8p0\\LocalCache\\local-packages\\Python310\\site-packages\\torchtext\\utils.py:53\u001b[0m, in \u001b[0;36mdownload_from_url.<locals>._process_response\u001b[1;34m(r, root, filename)\u001b[0m\n\u001b[0;32m     <a href='file:///c%3A/Users/Sadnan/AppData/Local/Packages/PythonSoftwareFoundation.Python.3.10_qbz5n2kfra8p0/LocalCache/local-packages/Python310/site-packages/torchtext/utils.py?line=50'>51</a>\u001b[0m total_size \u001b[39m=\u001b[39m \u001b[39mint\u001b[39m(r\u001b[39m.\u001b[39mheaders\u001b[39m.\u001b[39mget(\u001b[39m'\u001b[39m\u001b[39mContent-length\u001b[39m\u001b[39m'\u001b[39m, \u001b[39m0\u001b[39m))\n\u001b[0;32m     <a href='file:///c%3A/Users/Sadnan/AppData/Local/Packages/PythonSoftwareFoundation.Python.3.10_qbz5n2kfra8p0/LocalCache/local-packages/Python310/site-packages/torchtext/utils.py?line=51'>52</a>\u001b[0m \u001b[39mif\u001b[39;00m filename \u001b[39mis\u001b[39;00m \u001b[39mNone\u001b[39;00m:\n\u001b[1;32m---> <a href='file:///c%3A/Users/Sadnan/AppData/Local/Packages/PythonSoftwareFoundation.Python.3.10_qbz5n2kfra8p0/LocalCache/local-packages/Python310/site-packages/torchtext/utils.py?line=52'>53</a>\u001b[0m     d \u001b[39m=\u001b[39m r\u001b[39m.\u001b[39;49mheaders[\u001b[39m'\u001b[39;49m\u001b[39mcontent-disposition\u001b[39;49m\u001b[39m'\u001b[39;49m]\n\u001b[0;32m     <a href='file:///c%3A/Users/Sadnan/AppData/Local/Packages/PythonSoftwareFoundation.Python.3.10_qbz5n2kfra8p0/LocalCache/local-packages/Python310/site-packages/torchtext/utils.py?line=53'>54</a>\u001b[0m     filename \u001b[39m=\u001b[39m re\u001b[39m.\u001b[39mfindall(\u001b[39m\"\u001b[39m\u001b[39mfilename=\u001b[39m\u001b[39m\\\"\u001b[39;00m\u001b[39m(.+)\u001b[39m\u001b[39m\\\"\u001b[39;00m\u001b[39m\"\u001b[39m, d)\n\u001b[0;32m     <a href='file:///c%3A/Users/Sadnan/AppData/Local/Packages/PythonSoftwareFoundation.Python.3.10_qbz5n2kfra8p0/LocalCache/local-packages/Python310/site-packages/torchtext/utils.py?line=54'>55</a>\u001b[0m     \u001b[39mif\u001b[39;00m filename \u001b[39mis\u001b[39;00m \u001b[39mNone\u001b[39;00m:\n",
      "File \u001b[1;32m~\\AppData\\Local\\Packages\\PythonSoftwareFoundation.Python.3.10_qbz5n2kfra8p0\\LocalCache\\local-packages\\Python310\\site-packages\\requests\\structures.py:52\u001b[0m, in \u001b[0;36mCaseInsensitiveDict.__getitem__\u001b[1;34m(self, key)\u001b[0m\n\u001b[0;32m     <a href='file:///c%3A/Users/Sadnan/AppData/Local/Packages/PythonSoftwareFoundation.Python.3.10_qbz5n2kfra8p0/LocalCache/local-packages/Python310/site-packages/requests/structures.py?line=50'>51</a>\u001b[0m \u001b[39mdef\u001b[39;00m \u001b[39m__getitem__\u001b[39m(\u001b[39mself\u001b[39m, key):\n\u001b[1;32m---> <a href='file:///c%3A/Users/Sadnan/AppData/Local/Packages/PythonSoftwareFoundation.Python.3.10_qbz5n2kfra8p0/LocalCache/local-packages/Python310/site-packages/requests/structures.py?line=51'>52</a>\u001b[0m     \u001b[39mreturn\u001b[39;00m \u001b[39mself\u001b[39;49m\u001b[39m.\u001b[39;49m_store[key\u001b[39m.\u001b[39;49mlower()][\u001b[39m1\u001b[39m]\n",
      "\u001b[1;31mKeyError\u001b[0m: 'content-disposition'"
     ]
    }
   ],
   "source": [
    "from torchtext.datasets import text_classification\n",
    "\n",
    "NGRAMS = 2\n",
    "\n",
    "import os\n",
    "\n",
    "if not os.path.isdir('./.data'):\n",
    "\n",
    "    os.mkdir('./.data')\n",
    "\n",
    "train_dataset, test_dataset = text_classification.DATASETS['SogouNews'](root='./.data', ngrams=NGRAMS, vocab=None)\n",
    "\n",
    "BATCH_SIZE = 16\n",
    "\n",
    "device = torch.device(\"cuda\" if torch.cuda.is_available() else \"cpu\")"
   ]
  },
  {
   "cell_type": "code",
   "execution_count": null,
   "metadata": {},
   "outputs": [],
   "source": []
  }
 ],
 "metadata": {
  "interpreter": {
   "hash": "63f9911de6f9547d26d6ccd5b997d4c24c9ba8fc8843a26db797dceee8b60692"
  },
  "kernelspec": {
   "display_name": "Python 3.10.4 64-bit (windows store)",
   "language": "python",
   "name": "python3"
  },
  "language_info": {
   "codemirror_mode": {
    "name": "ipython",
    "version": 3
   },
   "file_extension": ".py",
   "mimetype": "text/x-python",
   "name": "python",
   "nbconvert_exporter": "python",
   "pygments_lexer": "ipython3",
   "version": "3.10.4"
  },
  "orig_nbformat": 4
 },
 "nbformat": 4,
 "nbformat_minor": 2
}
