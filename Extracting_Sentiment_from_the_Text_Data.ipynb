{
 "cells": [
  {
   "cell_type": "markdown",
   "metadata": {},
   "source": [
    "# Extracting Sentiment from the Text Data"
   ]
  },
  {
   "cell_type": "markdown",
   "metadata": {},
   "source": [
    "### Introduction\n",
    "\n",
    "Natural Language Processing (or NLP) is ubiquitous, and has multiple applications across sectors. One of the most common applications is to analyse the sentiment or polarity of textual data - in the form of customer reviews, social media feeds, employee feedback, surveys, etc.\n",
    "\n",
    "Sentiment analysis is basically the process of determining the attitude or emotion of the text, i.e., whether it is positive, negative or neutral. In this guide, you will learn about how to extract sentiment from the text using the TextBlob library from Python. We will start by importing the libraries to be used in this guide."
   ]
  },
  {
   "cell_type": "markdown",
   "metadata": {},
   "source": [
    "### Loading the Required Libraries and Modules"
   ]
  },
  {
   "cell_type": "code",
   "execution_count": 2,
   "metadata": {},
   "outputs": [
    {
     "name": "stderr",
     "output_type": "stream",
     "text": [
      "[nltk_data] Downloading package stopwords to\n",
      "[nltk_data]     C:\\Users\\Sadnan\\AppData\\Roaming\\nltk_data...\n",
      "[nltk_data]   Package stopwords is already up-to-date!\n"
     ]
    },
    {
     "data": {
      "text/plain": [
       "True"
      ]
     },
     "execution_count": 2,
     "metadata": {},
     "output_type": "execute_result"
    }
   ],
   "source": [
    "# Adding needed libraries and reading data\n",
    "\n",
    "import pandas as pd\n",
    "\n",
    "import numpy as np\n",
    "\n",
    "\n",
    "import warnings\n",
    "\n",
    "warnings.filterwarnings('ignore')\n",
    "\n",
    "\n",
    "# for text \n",
    "\n",
    "import nltk\n",
    "\n",
    "nltk.download('stopwords')"
   ]
  },
  {
   "cell_type": "markdown",
   "metadata": {},
   "source": [
    "### Text Blob\n",
    "\n",
    "TextBlob is a python library that offers a simple API to access its methods to perform various NLP tasks. The lines of code below will install the TextBlob library and download the necessary NLTK corpora. "
   ]
  },
  {
   "cell_type": "code",
   "execution_count": 8,
   "metadata": {},
   "outputs": [],
   "source": [
    "# %pip install -U textblob \n",
    "\n",
    "# python -m textblob.download_corpora \n",
    "\n",
    "from textblob import TextBlob, Word, Blobber"
   ]
  },
  {
   "cell_type": "markdown",
   "metadata": {},
   "source": [
    "Let us examine how the TextBlob library works with an example. The first line of code below contains the text example, while the second line prints the text. The third line uses the sentiment function and returns two properties - polarity and subjectivity. Let’s check the sentiment of our example."
   ]
  },
  {
   "cell_type": "code",
   "execution_count": 9,
   "metadata": {},
   "outputs": [
    {
     "name": "stdout",
     "output_type": "stream",
     "text": [
      "Pluralsight is a great place for learning amazing technology courses\n"
     ]
    },
    {
     "data": {
      "text/plain": [
       "Sentiment(polarity=0.7000000000000001, subjectivity=0.825)"
      ]
     },
     "execution_count": 9,
     "metadata": {},
     "output_type": "execute_result"
    }
   ],
   "source": [
    "text = TextBlob(\"Pluralsight is a great place for learning amazing technology courses\")\n",
    "\n",
    "print (text)\n",
    "\n",
    "text.sentiment"
   ]
  },
  {
   "cell_type": "markdown",
   "metadata": {},
   "source": [
    "The above output shows that the polarity of the sentence is 0.7, indicating that the sentiment is positive. Polarity is of 'float' type and lies in the range of -1,1, where 1 means a high positive sentiment, and -1 means a high negative sentiment.\n",
    "\n",
    "The output also prints subjectivity of the text which is 0.825 in our example. Subjectivity is also of 'float' type and lies in the range of 0,1. The value closer to 1 indicates that the sentence is mostly a public opinion and not a factual piece of information and vice versa. We now have an understanding of how the TextBlob library works. Let us now run this exercise on a dataset. "
   ]
  },
  {
   "cell_type": "markdown",
   "metadata": {},
   "source": [
    "### Problem Statement\n",
    "\n",
    "In this guide, we will take up the task of understanding the sentiment of tweets about the company Apple. The dataset contains 1181 observations and 2 variables, as described below:\n",
    "\n",
    "    1.Tweet: Consists of the twitter comments by the users. The twitter data is publicly available.\n",
    "    2.Avg: Average sentiment of the tweet (-2 means most negative while +2 means most positive). This classification was done using the Amazon Mechanical Turk. However, for the purpose of this guide, we will not use this variable. "
   ]
  },
  {
   "cell_type": "markdown",
   "metadata": {},
   "source": [
    "### Loading the Data and Performing Basic Data Checks\n",
    "\n",
    "The first line of code below reads in the data as pandas dataframe, while the second line prints the shape - 1,181 observations of 2 variables. The third line prints the first five observations. "
   ]
  },
  {
   "cell_type": "code",
   "execution_count": 13,
   "metadata": {},
   "outputs": [],
   "source": [
    "dat = pd.read_csv(r'F:\\work in jupyter\\NLP\\datasets\\tweetsdata.csv')\n"
   ]
  },
  {
   "cell_type": "markdown",
   "metadata": {},
   "source": [
    "**Output:**\n",
    "\n",
    "(1181, 2)\n",
    "\n",
    "\n",
    "|   \t| Tweet                                             \t| Avg  \t|\n",
    "|---\t|---------------------------------------------------\t|------\t|\n",
    "| 0 \t| iphone 5c is ugly as heck what the freak @appl... \t| -2.0 \t|\n",
    "| 1 \t| freak YOU @APPLE                                  \t| -2.0 \t|\n",
    "| 2 \t| freak you @apple                                  \t| -2.0 \t|\n",
    "| 3 \t| @APPLE YOU RUINED MY LIFE                         \t| -2.0 \t|\n",
    "| 4 \t| @apple I hate apple!!!!!                          \t| -2.0 \t|"
   ]
  },
  {
   "cell_type": "markdown",
   "metadata": {},
   "source": [
    "The objective is to detect the sentiment of the tweet. So, we will begin by checking the sentiment of the first five tweets which is done in the line of code below."
   ]
  },
  {
   "cell_type": "code",
   "execution_count": null,
   "metadata": {},
   "outputs": [],
   "source": [
    "dat['Tweet'][:10].apply(lambda x: TextBlob(x).sentiment)"
   ]
  },
  {
   "cell_type": "markdown",
   "metadata": {},
   "source": [
    "![Output1](Output1.PNG)"
   ]
  },
  {
   "cell_type": "markdown",
   "metadata": {},
   "source": [
    "The output above is a tuple representing polarity and subjectivity of each tweet. Since we are interested in the sentiment, we will only extract the polarity and apply it to all the observations. The first line of code below extracts the polarity for all the observations, and stores it in a new variable 'sentiment'. The second line prints the first five observations. "
   ]
  },
  {
   "cell_type": "code",
   "execution_count": null,
   "metadata": {},
   "outputs": [],
   "source": [
    "dat['sentiment'] = dat['Tweet'].apply(lambda x: TextBlob(x).sentiment[0])\n",
    "\n",
    "dat.head()"
   ]
  },
  {
   "cell_type": "markdown",
   "metadata": {},
   "source": [
    "Output:\n",
    "\n",
    "|   \t| Tweet                                             \t| Avg  \t| sentiment \t|\n",
    "|---\t|---------------------------------------------------\t|------\t|-----------\t|\n",
    "| 0 \t| iphone 5c is ugly as heck what the freak @appl... \t| -2.0 \t| -0.7      \t|\n",
    "| 1 \t| freak YOU @APPLE                                  \t| -2.0 \t| 0.0       \t|\n",
    "| 2 \t| freak you @apple                                  \t| -2.0 \t| 0.0       \t|\n",
    "| 3 \t| @APPLE YOU RUINED MY LIFE                         \t| -2.0 \t| 0.0       \t|\n",
    "| 4 \t| @apple I hate apple!!!!!                          \t| -2.0 \t| -1.0  "
   ]
  },
  {
   "cell_type": "markdown",
   "metadata": {},
   "source": [
    "The above output shows that each observation now has a sentiment polarity score, with 1 representing a positive sentiment and -1 representing a negative statement. The first and the fifth records are clearly negative while the remaining three have a polarity value of zero. "
   ]
  }
 ],
 "metadata": {
  "interpreter": {
   "hash": "63f9911de6f9547d26d6ccd5b997d4c24c9ba8fc8843a26db797dceee8b60692"
  },
  "kernelspec": {
   "display_name": "Python 3.10.4 64-bit (windows store)",
   "language": "python",
   "name": "python3"
  },
  "language_info": {
   "codemirror_mode": {
    "name": "ipython",
    "version": 3
   },
   "file_extension": ".py",
   "mimetype": "text/x-python",
   "name": "python",
   "nbconvert_exporter": "python",
   "pygments_lexer": "ipython3",
   "version": "3.10.4"
  },
  "orig_nbformat": 4
 },
 "nbformat": 4,
 "nbformat_minor": 2
}
