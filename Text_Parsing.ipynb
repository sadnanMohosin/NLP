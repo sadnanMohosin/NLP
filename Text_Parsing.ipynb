{
 "cells": [
  {
   "cell_type": "markdown",
   "metadata": {},
   "source": [
    "# Text Parsing"
   ]
  },
  {
   "cell_type": "markdown",
   "metadata": {},
   "source": [
    "### Introduction\n",
    "\n",
    "Natural Language Processing (NLP) has gained a lot of traction as a sub-field of Artificial Intelligence. It is focused on enabling computers to understand and process human languages. Some common applications include Chatbots, Sentiment Analysis, Translation, Spam Classification, and many more.\n",
    "\n",
    "However, there is a significant difference between NLP and traditional machine learning tasks, with the former dealing with unstructured text data while the latter deals with structured tabular data. Hence, it is necessary to understand how to deal with text before applying machine learning techniques to it. This is where text parsing comes into the picture.\n",
    "\n",
    "So, what is text parsing? In simple terms, it is a common programming task that separates the given series of text into smaller components based on some rules. Its application ranges from document parsing to deep learning NLP.\n",
    "\n",
    "In this guide, we will be applying the rich functionalities available within python to do text parsing. The two popular options are regular expressions and word tokenization."
   ]
  },
  {
   "cell_type": "markdown",
   "metadata": {},
   "source": [
    "### Regular Expressions\n",
    "\n",
    "Regular Expressions, or Regex, are strings with a special syntax that allow us to match patterns in other strings. In python, there is a module called re to work with regular expressions. Some of the common regex patterns and its usage are shown below:\n",
    "\n",
    "    '\\d': matches any decimal digit; for example, 5. A variance of this is '\\D' that matches any non-digit character.\n",
    "\n",
    "    '\\s': matches any whitespace character; for example, ''. A variance of this is '\\S' that matches any non-whitespace character.\n",
    "\n",
    "    '\\w': matches any alphanumeric character; for example, 'Pluralsight'. A variance of this is '\\W' that matches any non-alphanumeric character.\n",
    "\n",
    "    '+ or *': performs a greedy match. For example, 'eeeeee'.\n",
    "\n",
    "    ‘a-z’: matches lowercase groups.\n",
    "\n",
    "    ‘A-Za-z’: matches upper and lowercase English alphabet.\n",
    "\n",
    "    ‘0-9’: matches numbers from 0 to 9.\n",
    "\n",
    "These are a few of the many regex patterns available. We will understand regex better in the subsequent sections of this guide with the help of examples. We will start by importing the re module which is done in the first line of code below. We will also need a text object or corpus, for which we use the brief description of the popular movie, 'Avengers'. We store this text in the corpus 'regex_example'. This is done in the second line of code."
   ]
  },
  {
   "cell_type": "code",
   "execution_count": 1,
   "metadata": {},
   "outputs": [
    {
     "name": "stdout",
     "output_type": "stream",
     "text": [
      "Avengers: Infinity War was a 2018 American superhero film based on the Marvel Comics superhero team the Avengers. It is the 19th film in the Marvel Cinematic Universe (MCU). The running time of the movie was 149 minutes and the box office collection was around 2 billion dollars. (Source: Wikipedia)\n"
     ]
    }
   ],
   "source": [
    "import re\n",
    "\n",
    "regex_example = \"Avengers: Infinity War was a 2018 American superhero film based on the Marvel Comics superhero team the Avengers. It is the 19th film in the Marvel Cinematic Universe (MCU). The running time of the movie was 149 minutes and the box office collection was around 2 billion dollars. (Source: Wikipedia)\"\n",
    "\n",
    "print(regex_example)"
   ]
  },
  {
   "cell_type": "markdown",
   "metadata": {},
   "source": [
    "### Common Python Regex Methods\n",
    "#### re.findall()\n",
    "\n",
    "The re.findall() method returns all patterns in the string.In case of no match, an empty list is returned.\n",
    "\n",
    "The first line of code below extracts numbers from the text, 'regex_example', that we created earlier.\n",
    "\n",
    "We will now work with words and try to find the number of vowels in the text. The second and third lines of code perform this task. There are 87 occurrences of vowels in the text.\n",
    "\n",
    "Suppose you want to find the number of times the word 'Avengers' was used in the corpus. This is achieved by the fourth line of code and the answer is 2.\n",
    "\n",
    "We can also find all capitalized words and print the result, which is done in fifth and sixth lines of the code. The output only contains the capitalized words of the corpus."
   ]
  },
  {
   "cell_type": "code",
   "execution_count": 2,
   "metadata": {},
   "outputs": [
    {
     "name": "stdout",
     "output_type": "stream",
     "text": [
      "['2018', '19', '149', '2']\n",
      "87\n",
      "2\n",
      "['Avengers', 'Infinity', 'War', 'American', 'Marvel', 'Comics', 'Avengers', 'It', 'Marvel', 'Cinematic', 'Universe', 'MCU', 'The', 'Source', 'Wikipedia']\n"
     ]
    }
   ],
   "source": [
    "print(re.findall('\\d+', regex_example))  #line1\n",
    "\n",
    " \n",
    "\n",
    "vowels = re.findall('[aeiou]', regex_example)   #line2\n",
    "\n",
    "print(len(vowels))   #line 3\n",
    "\n",
    " \n",
    "\n",
    "print(len(re.findall('Avengers', regex_example))) #line 4\n",
    "\n",
    " \n",
    "\n",
    "capitalwords = \"[A-Z]\\w+\" \t#line 5\n",
    "\n",
    "print(re.findall(capitalwords, regex_example))   #line 6"
   ]
  },
  {
   "cell_type": "markdown",
   "metadata": {},
   "source": [
    "#### re.split()\n",
    "\n",
    "The other useful method is re.split(), that splits the string in case of a match. In case of no match, it returns a list containing an empty string.\n",
    "\n",
    "In our example, let's apply this method and split the corpus with a pattern of numbers. The below chunk of code does this task and prints the output."
   ]
  },
  {
   "cell_type": "code",
   "execution_count": 3,
   "metadata": {},
   "outputs": [
    {
     "name": "stdout",
     "output_type": "stream",
     "text": [
      "['Avengers: Infinity War was a ', ' American superhero film based on the Marvel Comics superhero team the Avengers. It is the ', 'th film in the Marvel Cinematic Universe (MCU). The running time of the movie was ', ' minutes and the box office collection was around ', ' billion dollars. (Source: Wikipedia)']\n"
     ]
    }
   ],
   "source": [
    "print(re.split(r\"\\d+\", regex_example))"
   ]
  },
  {
   "cell_type": "markdown",
   "metadata": {},
   "source": [
    "The above output shows the split was done on digits. It is possible to add the ‘maxsplit’ argument to the re.split() method, that indicates the maximum number of splits that will occur. The default value is zero. The code below uses the maxsplit value as 2, and the method only splits for the first couple of digit occurrences."
   ]
  },
  {
   "cell_type": "code",
   "execution_count": 4,
   "metadata": {},
   "outputs": [
    {
     "name": "stdout",
     "output_type": "stream",
     "text": [
      "['Avengers: Infinity War was a ', ' American superhero film based on the Marvel Comics superhero team the Avengers. It is the ', 'th film in the Marvel Cinematic Universe (MCU). The running time of the movie was 149 minutes and the box office collection was around 2 billion dollars. (Source: Wikipedia)']\n"
     ]
    }
   ],
   "source": [
    "print(re.split(r\"\\d+\", regex_example,2))"
   ]
  },
  {
   "cell_type": "markdown",
   "metadata": {},
   "source": [
    "Another application would be to split the corpus on spaces. That is achieved with the below code."
   ]
  },
  {
   "cell_type": "code",
   "execution_count": 5,
   "metadata": {},
   "outputs": [
    {
     "name": "stdout",
     "output_type": "stream",
     "text": [
      "['Avengers:', 'Infinity', 'War', 'was', 'a', '2018', 'American', 'superhero', 'film', 'based', 'on', 'the', 'Marvel', 'Comics', 'superhero', 'team', 'the', 'Avengers.', 'It', 'is', 'the', '19th', 'film', 'in', 'the', 'Marvel', 'Cinematic', 'Universe', '(MCU).', 'The', 'running', 'time', 'of', 'the', 'movie', 'was', '149', 'minutes', 'and', 'the', 'box', 'office', 'collection', 'was', 'around', '2', 'billion', 'dollars.', '(Source:', 'Wikipedia)']\n"
     ]
    }
   ],
   "source": [
    "print(re.split(r\"\\s+\", regex_example))"
   ]
  },
  {
   "cell_type": "markdown",
   "metadata": {},
   "source": [
    "#### re.sub()\n",
    "\n",
    "This method is used to substitute the matched text with the contents in the replace variable. If the pattern is not found, the original string is returned.\n",
    "\n",
    "In our example, let's substitute the word 'Avengers' with 'A'. The below chunk of code does this task."
   ]
  },
  {
   "cell_type": "code",
   "execution_count": 6,
   "metadata": {},
   "outputs": [
    {
     "name": "stdout",
     "output_type": "stream",
     "text": [
      "A: Infinity War was a 2018 American superhero film based on the Marvel Comics superhero team the A. It is the 19th film in the Marvel Cinematic Universe (MCU). The running time of the movie was 149 minutes and the box office collection was around 2 billion dollars. (Source: Wikipedia)\n"
     ]
    }
   ],
   "source": [
    "print(re.sub(\"Avengers\", \"A\", regex_example))"
   ]
  },
  {
   "cell_type": "markdown",
   "metadata": {},
   "source": [
    "#### re.search()\n",
    "\n",
    "This method is used to search the pattern in the string and return the match object if successful. If the search fails, it returns None.\n",
    "\n",
    "Let's understand this in the example below, where we will try to find if the word 'Python' is at the beginning of the sentence \"Scikit Learn is a great Python library\". In our example, since the search fails, the output is 'None'."
   ]
  },
  {
   "cell_type": "code",
   "execution_count": 7,
   "metadata": {},
   "outputs": [
    {
     "name": "stdout",
     "output_type": "stream",
     "text": [
      "None\n"
     ]
    }
   ],
   "source": [
    "example = \"Scikit Learn is a great Python library\"\n",
    "\n",
    "match = re.search('\\APython', example)\n",
    "\n",
    "print(match)"
   ]
  },
  {
   "cell_type": "markdown",
   "metadata": {},
   "source": [
    "Regular expressions are a humongous area and it is impossible to cover all of it in one guide. However, we have got a basic understanding of the most commonly used regex methods and their working in Python, which will be useful in the majority of the cases. Let’s now turn towards another important text parsing technique called word tokenization. "
   ]
  },
  {
   "cell_type": "markdown",
   "metadata": {},
   "source": [
    "#### Word Tokenization\n",
    "\n",
    "Tokenization is the process of converting a text or corpus into tokens (smaller pieces). The conversion into tokens is carried out based on certain rules. Using regex, own rules can also be created. Tokenization helps in text pre-processing tasks such as mapping parts of speech, finding and matching common words, cleaning text, and getting the data ready for advanced text analytics techniques like sentiment analysis.\n",
    "\n",
    "Python has a very popular natural language toolkit library, called 'nltk', that has a rich set of functions for performing many NLP jobs. It can be downloaded through pip and is also included in the Anaconda distribution.\n",
    "\n",
    "We will be working on the common applications of word tokenization using nltk. To start with, we should import the nltk library. Then, we import the sent_tokenize and word_tokenize functions. This is done in the code below."
   ]
  },
  {
   "cell_type": "code",
   "execution_count": 8,
   "metadata": {},
   "outputs": [],
   "source": [
    "# Import necessary modules\n",
    "\n",
    "import nltk\n",
    "\n",
    "from nltk.tokenize import sent_tokenize, word_tokenize"
   ]
  },
  {
   "cell_type": "code",
   "execution_count": 9,
   "metadata": {},
   "outputs": [
    {
     "name": "stdout",
     "output_type": "stream",
     "text": [
      "Pluralsight is the technology skills platform. It has more than 6000 courses and 1100+ employees. Pluralsight is headquartered in Utah and has over 1500 experts authoring high quality courses. Pluralsight grew 161 percent between 2014 and 2017, earning the company a spot in the Deloitte Technology Fast 500 list for five consecutive years.\n"
     ]
    }
   ],
   "source": [
    "textdata = \"Pluralsight is the technology skills platform. It has more than 6000 courses and 1100+ employees. Pluralsight is headquartered in Utah and has over 1500 experts authoring high quality courses. Pluralsight grew 161 percent between 2014 and 2017, earning the company a spot in the Deloitte Technology Fast 500 list for five consecutive years.\"\n",
    "\n",
    "print(textdata)"
   ]
  },
  {
   "cell_type": "markdown",
   "metadata": {},
   "source": [
    "We will now perform word tokenization tasks on this textdata. The most common forms of tokenization are word and sentence tokenization.\n",
    "\n",
    "The first code below tokenizes the text into words and prints the output. The second code also does tokenization, but this time it's done on sentences."
   ]
  },
  {
   "cell_type": "code",
   "execution_count": 10,
   "metadata": {},
   "outputs": [
    {
     "name": "stdout",
     "output_type": "stream",
     "text": [
      "['Pluralsight', 'is', 'the', 'technology', 'skills', 'platform', '.', 'It', 'has', 'more', 'than', '6000', 'courses', 'and', '1100+', 'employees', '.', 'Pluralsight', 'is', 'headquartered', 'in', 'Utah', 'and', 'has', 'over', '1500', 'experts', 'authoring', 'high', 'quality', 'courses', '.', 'Pluralsight', 'grew', '161', 'percent', 'between', '2014', 'and', '2017', ',', 'earning', 'the', 'company', 'a', 'spot', 'in', 'the', 'Deloitte', 'Technology', 'Fast', '500', 'list', 'for', 'five', 'consecutive', 'years', '.']\n"
     ]
    }
   ],
   "source": [
    "print(word_tokenize(textdata))"
   ]
  },
  {
   "cell_type": "code",
   "execution_count": 11,
   "metadata": {},
   "outputs": [
    {
     "name": "stdout",
     "output_type": "stream",
     "text": [
      "['Pluralsight is the technology skills platform.', 'It has more than 6000 courses and 1100+ employees.', 'Pluralsight is headquartered in Utah and has over 1500 experts authoring high quality courses.', 'Pluralsight grew 161 percent between 2014 and 2017, earning the company a spot in the Deloitte Technology Fast 500 list for five consecutive years.']\n"
     ]
    }
   ],
   "source": [
    "print(sent_tokenize(textdata))"
   ]
  },
  {
   "cell_type": "markdown",
   "metadata": {},
   "source": [
    "It's important to understand the difference between the two functions 'word_tokenize' and 'sent_tokenize'. In the above outputs, we saw that both the functions create different outputs (tokens) for the same input (text data), and that's because of the difference in their functionalities.\n",
    "\n",
    "We will now look at the unique tokens generated with both the methods in the two lines of code below. In the first output below, the term 'Pluralsight' appears only once as it's a word-level token. However, in the second output, the term appears many times because the tokenization happened at the sentence level. "
   ]
  },
  {
   "cell_type": "code",
   "execution_count": 12,
   "metadata": {},
   "outputs": [
    {
     "name": "stdout",
     "output_type": "stream",
     "text": [
      "{'high', 'quality', 'headquartered', ',', 'technology', 'grew', 'authoring', 'Pluralsight', 'spot', '1500', 'Technology', 'list', 'experts', '.', 'Utah', 'Deloitte', 'company', 'than', '2017', 'has', 'and', '500', 'years', 'a', 'courses', 'between', 'It', 'five', 'over', 'more', 'percent', 'for', '2014', 'earning', '161', 'employees', 'skills', 'platform', 'Fast', 'is', 'consecutive', '6000', '1100+', 'the', 'in'}\n"
     ]
    }
   ],
   "source": [
    "print(set(word_tokenize(textdata)))"
   ]
  },
  {
   "cell_type": "code",
   "execution_count": 13,
   "metadata": {},
   "outputs": [
    {
     "name": "stdout",
     "output_type": "stream",
     "text": [
      "{'Pluralsight is headquartered in Utah and has over 1500 experts authoring high quality courses.', 'Pluralsight grew 161 percent between 2014 and 2017, earning the company a spot in the Deloitte Technology Fast 500 list for five consecutive years.', 'It has more than 6000 courses and 1100+ employees.', 'Pluralsight is the technology skills platform.'}\n"
     ]
    }
   ],
   "source": [
    "print(set(sent_tokenize(textdata)))"
   ]
  },
  {
   "cell_type": "markdown",
   "metadata": {},
   "source": [
    "Let's calculate the number of unique tokens generated using both the functions, 'word_tokenize' and 'sent_tokenize', which is done in the two lines of code below. There are 45 unique 'word' tokens, while there are only 4 unique 'sentence' tokens."
   ]
  },
  {
   "cell_type": "code",
   "execution_count": 14,
   "metadata": {},
   "outputs": [
    {
     "name": "stdout",
     "output_type": "stream",
     "text": [
      "45\n",
      "4\n"
     ]
    }
   ],
   "source": [
    "print(len(set(word_tokenize(textdata))))\n",
    "\n",
    "print(len(set(sent_tokenize(textdata))))"
   ]
  },
  {
   "cell_type": "markdown",
   "metadata": {},
   "source": [
    "We have a fair understanding of tokenization. We will now add some visualization to tokenization through the powerful python library, matplotlib. The first line of code imports the matplotlib library, while the second line creates word tokens and stores it in the object 't'. The third line calculates the number of occurrences of each word in the corpus. The fourth and fifth lines of code plot the histogram. We can see that there are many words which have been repeated quite a few times."
   ]
  },
  {
   "cell_type": "code",
   "execution_count": 15,
   "metadata": {},
   "outputs": [
    {
     "data": {
      "image/png": "[encoded data removed]",
      "text/plain": [
       "<Figure size 640x480 with 1 Axes>"
      ]
     },
     "metadata": {},
     "output_type": "display_data"
    }
   ],
   "source": [
    "#Combining NLP data extraction with plotting\n",
    "\n",
    "from matplotlib import pyplot as plt  #line 1\n",
    "\n",
    "t = word_tokenize(textdata)\n",
    "\n",
    "wordlen = [len(w) for w in t]\n",
    "\n",
    "plt.hist(wordlen)\n",
    "\n",
    "plt.show()"
   ]
  },
  {
   "cell_type": "markdown",
   "metadata": {},
   "source": [
    "### Conclusion\n",
    "\n",
    "In this guide, we have come a long way from understanding basic regular expressions to tokenizing words and sentences. We learned the usage of python's two powerful libraries, re and nltk, using interesting text examples. We also learned how to create visualizations of word tokens using nltk and matplotlib.\n",
    "\n",
    "Both Regex and NLTK can play a vital role in the text pre-processing phase. However, the domain of these techniques is too big to be covered in this one single guide, which was aimed to be a good building block for individuals aspiring to start working with natural language processing problems using Python’s inbuilt libraries."
   ]
  }
 ],
 "metadata": {
  "interpreter": {
   "hash": "63f9911de6f9547d26d6ccd5b997d4c24c9ba8fc8843a26db797dceee8b60692"
  },
  "kernelspec": {
   "display_name": "Python 3.10.4 64-bit (windows store)",
   "language": "python",
   "name": "python3"
  },
  "language_info": {
   "codemirror_mode": {
    "name": "ipython",
    "version": 3
   },
   "file_extension": ".py",
   "mimetype": "text/x-python",
   "name": "python",
   "nbconvert_exporter": "python",
   "pygments_lexer": "ipython3",
   "version": "3.10.4"
  },
  "orig_nbformat": 4
 },
 "nbformat": 4,
 "nbformat_minor": 2
}
